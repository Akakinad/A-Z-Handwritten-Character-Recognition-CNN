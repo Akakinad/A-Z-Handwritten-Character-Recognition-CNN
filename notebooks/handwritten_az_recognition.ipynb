{
 "cells": [
  {
   "cell_type": "markdown",
   "id": "0",
   "metadata": {},
   "source": [
    "# Az Handwritten Character Recognition using CNN"
   ]
  },
  {
   "cell_type": "code",
   "execution_count": null,
   "id": "1",
   "metadata": {},
   "outputs": [],
   "source": [
    "# Step 1: Import necessary libraries\n",
    "import numpy as np\n",
    "import pandas as pd\n",
    "import matplotlib.pyplot as plt\n",
    "import seaborn as sns\n",
    "from PIL import Image\n",
    "from matplotlib.patches import Rectangle\n",
    "\n",
    "import tensorflow as tf\n",
    "from tensorflow.keras.models import Sequential\n",
    "from tensorflow.keras.layers import Dense, Conv2D, MaxPooling2D, Flatten, Dropout\n",
    "from tensorflow.keras.utils import to_categorical\n",
    "from tensorflow.keras.callbacks import EarlyStopping\n",
    "\n",
    "from sklearn.model_selection import train_test_split\n",
    "from sklearn.metrics import classification_report, confusion_matrix\n",
    "\n",
    "# Set style\n",
    "plt.style.use('ggplot')"
   ]
  },
  {
   "cell_type": "markdown",
   "id": "2",
   "metadata": {},
   "source": [
    "# Step 2: Load dataset"
   ]
  },
  {
   "cell_type": "code",
   "execution_count": null,
   "id": "3",
   "metadata": {},
   "outputs": [],
   "source": [
    "print(\"Loading dataset...\")\n",
    "data = pd.read_csv('dataset/A_Z Handwritten Data.csv')\n",
    "data.columns = ['label'] + [f'pixel{i}' for i in range(784)]"
   ]
  },
  {
   "cell_type": "markdown",
   "id": "4",
   "metadata": {},
   "source": [
    "# Step 3: Shuffle and split into training/testing"
   ]
  },
  {
   "cell_type": "code",
   "execution_count": null,
   "id": "5",
   "metadata": {},
   "outputs": [],
   "source": [
    "print(\"Shuffling and splitting dataset...\")\n",
    "data = data.sample(frac=1).reset_index(drop=True)\n",
    "train = data.iloc[:250000, :]\n",
    "test = data.iloc[250000:350000, :].reset_index(drop=True)"
   ]
  },
  {
   "cell_type": "markdown",
   "id": "6",
   "metadata": {},
   "source": [
    "# Step 4: Visualize class distribution"
   ]
  },
  {
   "cell_type": "code",
   "execution_count": null,
   "id": "7",
   "metadata": {},
   "outputs": [],
   "source": [
    "letters = [chr(i) for i in range(65, 91)]\n",
    "fig, (ax1, ax2) = plt.subplots(1, 2, figsize=(14, 6))\n",
    "ax1.barh(letters, train['label'].value_counts().sort_index(), color=sns.color_palette('viridis', 26))\n",
    "ax1.set_title('Training Frequency')\n",
    "ax2.barh(letters, test['label'].value_counts().sort_index(), color=sns.color_palette('viridis', 26))\n",
    "ax2.set_title('Testing Frequency')\n",
    "plt.tight_layout()\n",
    "plt.show()"
   ]
  },
  {
   "cell_type": "markdown",
   "id": "8",
   "metadata": {},
   "source": [
    "# Step 5: Prepare features and labels"
   ]
  },
  {
   "cell_type": "code",
   "execution_count": null,
   "id": "9",
   "metadata": {},
   "outputs": [],
   "source": [
    "train_x = train.drop('label', axis=1).values.reshape(-1, 28, 28, 1) / 255.0\n",
    "train_y = to_categorical(train['label'], 26)\n",
    "test_x = test.drop('label', axis=1).values.reshape(-1, 28, 28, 1) / 255.0\n",
    "test_y = test['label']"
   ]
  },
  {
   "cell_type": "markdown",
   "id": "10",
   "metadata": {},
   "source": [
    "# Step 6: Visualize some samples"
   ]
  },
  {
   "cell_type": "code",
   "execution_count": null,
   "id": "11",
   "metadata": {},
   "outputs": [],
   "source": [
    "random_indices = np.random.choice(len(train), 24, replace=False)\n",
    "fig, axes = plt.subplots(3, 8, figsize=(16, 6))\n",
    "for i, ax in enumerate(axes.ravel()):\n",
    "    ax.imshow(train[train.columns[1:]].iloc[random_indices[i]].values.reshape(28, 28), cmap='Greys')\n",
    "    ax.axis('off')\n",
    "plt.tight_layout()\n",
    "plt.show()"
   ]
  },
  {
   "cell_type": "markdown",
   "id": "12",
   "metadata": {},
   "source": [
    "# Step 7: Build the CNN model"
   ]
  },
  {
   "cell_type": "code",
   "execution_count": null,
   "id": "13",
   "metadata": {},
   "outputs": [],
   "source": [
    "model = Sequential([\n",
    "    Conv2D(32, (3, 3), activation='relu', input_shape=(28, 28, 1)),\n",
    "    Conv2D(32, (3, 3), activation='relu'),\n",
    "    MaxPooling2D(2, 2),\n",
    "\n",
    "    Conv2D(32, (3, 3), activation='relu', padding='same'),\n",
    "    Conv2D(32, (3, 3), activation='relu', padding='same'),\n",
    "    MaxPooling2D(2, 2),\n",
    "\n",
    "    Conv2D(32, (3, 3), activation='relu', padding='same'),\n",
    "    Conv2D(32, (3, 3), activation='relu', padding='same'),\n",
    "    MaxPooling2D(2, 2),\n",
    "\n",
    "    Flatten(),\n",
    "    Dense(256, activation='relu'),\n",
    "    Dense(256, activation='relu'),\n",
    "    Dense(26, activation='softmax')\n",
    "])\n",
    "model.summary()"
   ]
  },
  {
   "cell_type": "markdown",
   "id": "14",
   "metadata": {},
   "source": [
    "# Step 8: Compile and train the model"
   ]
  },
  {
   "cell_type": "code",
   "execution_count": null,
   "id": "15",
   "metadata": {},
   "outputs": [],
   "source": [
    "model.compile(optimizer='adam', loss='categorical_crossentropy', metrics=['accuracy'])\n",
    "early_stopping = EarlyStopping(monitor='val_accuracy', patience=5, restore_best_weights=True)\n",
    "history = model.fit(train_x, train_y, validation_split=0.2, epochs=10, batch_size=50, callbacks=[early_stopping])"
   ]
  },
  {
   "cell_type": "markdown",
   "id": "16",
   "metadata": {},
   "source": [
    "# Step 9: Plot training history"
   ]
  },
  {
   "cell_type": "code",
   "execution_count": null,
   "id": "17",
   "metadata": {},
   "outputs": [],
   "source": [
    "history_df = pd.DataFrame(history.history)\n",
    "fig, (ax1, ax2) = plt.subplots(2, 1, figsize=(10, 8))\n",
    "ax1.plot(history_df['accuracy'], label='Training Accuracy', color='blue')\n",
    "ax1.plot(history_df['val_accuracy'], label='Validation Accuracy', color='green')\n",
    "ax1.set_title('Accuracy')\n",
    "ax1.set_xlabel('Epochs')\n",
    "ax1.set_ylabel('Accuracy')\n",
    "ax1.legend()\n",
    "\n",
    "ax2.plot(history_df['loss'], label='Training Loss', color='orange')\n",
    "ax2.plot(history_df['val_loss'], label='Validation Loss', color='red')\n",
    "ax2.set_title('Loss')\n",
    "ax2.set_xlabel('Epochs')\n",
    "ax2.set_ylabel('Loss')\n",
    "ax2.legend()\n",
    "\n",
    "plt.tight_layout()\n",
    "plt.show()"
   ]
  },
  {
   "cell_type": "markdown",
   "id": "18",
   "metadata": {},
   "source": [
    "# Step 10: Evaluate on test set"
   ]
  },
  {
   "cell_type": "code",
   "execution_count": null,
   "id": "19",
   "metadata": {},
   "outputs": [],
   "source": [
    "test_y_cat = to_categorical(test_y, 26)\n",
    "test_loss, test_accuracy = model.evaluate(test_x, test_y_cat, verbose=0)\n",
    "print(f\"\\nTest Accuracy: {test_accuracy * 100:.2f}%\")"
   ]
  },
  {
   "cell_type": "markdown",
   "id": "20",
   "metadata": {},
   "source": [
    "# Step 11: Predict on test set"
   ]
  },
  {
   "cell_type": "code",
   "execution_count": null,
   "id": "21",
   "metadata": {},
   "outputs": [],
   "source": [
    "preds = model.predict(test_x)\n",
    "pred_labels = np.argmax(preds, axis=1)"
   ]
  },
  {
   "cell_type": "markdown",
   "id": "22",
   "metadata": {},
   "source": [
    "# Step 12: Classification report and per-class accuracy"
   ]
  },
  {
   "cell_type": "code",
   "execution_count": null,
   "id": "23",
   "metadata": {},
   "outputs": [],
   "source": [
    "print(\"\\nClassification Report:\")\n",
    "print(classification_report(test_y, pred_labels, target_names=letters))\n",
    "\n",
    "class_accuracies = {}\n",
    "for i in range(26):\n",
    "    correct = np.sum((test_y == i) & (pred_labels == i))\n",
    "    total = np.sum(test_y == i)\n",
    "    acc = correct / total if total > 0 else 0\n",
    "    class_accuracies[letters[i]] = acc\n",
    "\n",
    "print(\"\\nPer-Class Accuracy:\")\n",
    "for label, acc in class_accuracies.items():\n",
    "    print(f\"{label}: {acc * 100:.2f}%\")"
   ]
  },
  {
   "cell_type": "markdown",
   "id": "24",
   "metadata": {},
   "source": []
  },
  {
   "cell_type": "markdown",
   "id": "25",
   "metadata": {},
   "source": [
    "# Step 13: Visualize a random prediction"
   ]
  },
  {
   "cell_type": "code",
   "execution_count": null,
   "id": "26",
   "metadata": {},
   "outputs": [],
   "source": [
    "index = np.random.randint(len(test))\n",
    "pixels = test.iloc[index, 1:].values.reshape(28, 28)\n",
    "plt.imshow(pixels, cmap='Greys_r')\n",
    "plt.axis('off')\n",
    "plt.title(f\"Predicted: {chr(pred_labels[index] + 65)}\")\n",
    "plt.show()"
   ]
  },
  {
   "cell_type": "markdown",
   "id": "27",
   "metadata": {},
   "source": [
    "# Step 14: Count correct and incorrect predictions"
   ]
  },
  {
   "cell_type": "code",
   "execution_count": null,
   "id": "28",
   "metadata": {},
   "outputs": [],
   "source": [
    "wrong_preds = np.where(pred_labels != test_y)[0]\n",
    "right_preds = np.where(pred_labels == test_y)[0]\n",
    "print(f\"\\nCorrect predictions: {len(right_preds)} / {len(test_y)}\")\n",
    "print(f\"Incorrect predictions: {len(wrong_preds)}\")"
   ]
  },
  {
   "cell_type": "markdown",
   "id": "29",
   "metadata": {},
   "source": [
    "# Step 15: Visualize correct predictions"
   ]
  },
  {
   "cell_type": "code",
   "execution_count": null,
   "id": "30",
   "metadata": {},
   "outputs": [],
   "source": [
    "np.random.shuffle(right_preds)\n",
    "fig, axes = plt.subplots(3, 8, figsize=(16, 6))\n",
    "for i, ax in enumerate(axes.ravel()):\n",
    "    ax.imshow(test.iloc[right_preds[i], 1:].values.reshape(28, 28), cmap='Greys')\n",
    "    ax.axis('off')\n",
    "    ax.set_title(f\"Pred: {chr(pred_labels[right_preds[i]] + 65)}\")\n",
    "plt.tight_layout()\n",
    "plt.show()"
   ]
  },
  {
   "cell_type": "markdown",
   "id": "31",
   "metadata": {},
   "source": [
    "# Step 16: Plot confusion matrix"
   ]
  },
  {
   "cell_type": "code",
   "execution_count": null,
   "id": "32",
   "metadata": {},
   "outputs": [],
   "source": [
    "conf_mat = confusion_matrix(test_y, pred_labels)\n",
    "plt.figure(figsize=(12, 10))\n",
    "sns.heatmap(conf_mat, annot=True, fmt='d', cmap='Blues', xticklabels=letters, yticklabels=letters)\n",
    "plt.title('Confusion Matrix')\n",
    "plt.xlabel('Predicted Label')\n",
    "plt.ylabel('True Label')\n",
    "plt.show()"
   ]
  }
 ],
 "metadata": {
  "kernelspec": {
   "display_name": "venv",
   "language": "python",
   "name": "python3"
  },
  "language_info": {
   "codemirror_mode": {
    "name": "ipython",
    "version": 3
   },
   "file_extension": ".py",
   "mimetype": "text/x-python",
   "name": "python",
   "nbconvert_exporter": "python",
   "pygments_lexer": "ipython3",
   "version": "3.11.12"
  }
 },
 "nbformat": 4,
 "nbformat_minor": 5
}
